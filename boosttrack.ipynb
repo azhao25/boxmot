{
 "cells": [
  {
   "cell_type": "code",
   "execution_count": null,
   "metadata": {},
   "outputs": [],
   "source": [
    "from SPT import YOLOBPPBuilder\n",
    "from pathlib import Path\n",
    "import os\n",
    "model_path = \"???\"\n",
    "base_folder = \"???\"\n",
    "suffix = \"?\"\n",
    "file_path = os.path.join(base_folder, suffix)\n",
    "save_folder = base_folder + \"/BoostTrack++\"\n",
    "reid_weights = Path('osnet_x0_25_msmt17.pt')\n",
    "bpp = YOLOBPPBuilder(model_path, reid_weights=reid_weights)\n",
    "bpp.load(file_path)\n",
    "bpp.track(save_folder + \"/\" + suffix.replace(\".tiff\", \".csv\"))"
   ]
  },
  {
   "cell_type": "code",
   "execution_count": null,
   "metadata": {},
   "outputs": [],
   "source": []
  }
 ],
 "metadata": {
  "kernelspec": {
   "display_name": ".venv",
   "language": "python",
   "name": "python3"
  },
  "language_info": {
   "codemirror_mode": {
    "name": "ipython",
    "version": 3
   },
   "file_extension": ".py",
   "mimetype": "text/x-python",
   "name": "python",
   "nbconvert_exporter": "python",
   "pygments_lexer": "ipython3",
   "version": "3.11.9"
  }
 },
 "nbformat": 4,
 "nbformat_minor": 2
}
